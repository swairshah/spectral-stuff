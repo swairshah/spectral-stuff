{
 "cells": [
  {
   "cell_type": "code",
   "execution_count": 1,
   "metadata": {
    "collapsed": true
   },
   "outputs": [],
   "source": [
    "%load_ext autoreload\n",
    "%autoreload 2\n",
    "from laplacian import *\n",
    "from conjugate_gs import *"
   ]
  },
  {
   "cell_type": "code",
   "execution_count": 2,
   "metadata": {
    "collapsed": true
   },
   "outputs": [],
   "source": [
    "G = GenDumbbellGraph(4,5)\n"
   ]
  },
  {
   "cell_type": "code",
   "execution_count": 3,
   "metadata": {},
   "outputs": [
    {
     "data": {
      "image/png": "[encoded data removed]",
      "text/plain": [
       "<matplotlib.figure.Figure at 0x7fc90464b8d0>"
      ]
     },
     "metadata": {},
     "output_type": "display_data"
    }
   ],
   "source": [
    "Draw(G)"
   ]
  },
  {
   "cell_type": "code",
   "execution_count": 4,
   "metadata": {},
   "outputs": [],
   "source": [
    "L = Laplacian(G)\n",
    "E = IncidenceMatrix(G)\n",
    "L_p = np.linalg.pinv(L)\n",
    "L_p2 = ConjugatePinv(L, L)"
   ]
  },
  {
   "cell_type": "code",
   "execution_count": 5,
   "metadata": {},
   "outputs": [
    {
     "name": "stdout",
     "output_type": "stream",
     "text": [
      "8\n"
     ]
    }
   ],
   "source": [
    "print(np.linalg.matrix_rank(L))"
   ]
  },
  {
   "cell_type": "code",
   "execution_count": 6,
   "metadata": {},
   "outputs": [
    {
     "name": "stdout",
     "output_type": "stream",
     "text": [
      "3.10881859979\n",
      "3.10881859979\n",
      "3.07646861766e-14\n"
     ]
    }
   ],
   "source": [
    "print(norm(L_p, ord = 'fro'))\n",
    "print(norm(L_p2, ord = 'fro'))\n",
    "print(norm(L_p - L_p2))"
   ]
  },
  {
   "cell_type": "code",
   "execution_count": 7,
   "metadata": {},
   "outputs": [
    {
     "data": {
      "text/plain": [
       "array([[ 0.35355339,  0.20412415,  0.13245324,  0.        ,  0.        ,\n",
       "         0.        ,  0.13696631,  0.15442392,  0.20273393,  0.2961366 ,\n",
       "         0.56322689,  0.        ,  0.        ,  0.        ,  0.        ,\n",
       "         0.        ,  0.        ],\n",
       "       [-0.35355339,  0.20412415,  0.13245324,  0.        ,  0.        ,\n",
       "         0.        ,  0.13696631,  0.15442392,  0.20273393,  0.2961366 ,\n",
       "         0.56322689,  0.        ,  0.        ,  0.        ,  0.        ,\n",
       "         0.        ,  0.        ],\n",
       "       [ 0.        , -0.40824829,  0.13245324,  0.        ,  0.        ,\n",
       "         0.        ,  0.13696631,  0.15442392,  0.20273393,  0.2961366 ,\n",
       "         0.56322689,  0.        ,  0.        ,  0.        ,  0.        ,\n",
       "         0.        ,  0.        ],\n",
       "       [ 0.        ,  0.        , -0.39735971,  0.        ,  0.        ,\n",
       "         0.        ,  0.02282772,  0.10959117,  0.14387569,  0.21016146,\n",
       "         0.39970941,  0.        ,  0.        ,  0.        ,  0.        ,\n",
       "         0.        ,  0.        ],\n",
       "       [ 0.        ,  0.        ,  0.        ,  0.        ,  0.        ,\n",
       "         0.        , -0.43372666, -0.06973983, -0.09155726, -0.13373911,\n",
       "        -0.25436053,  0.        ,  0.        ,  0.        ,  0.        ,\n",
       "         0.        ,  0.        ],\n",
       "       [ 0.        ,  0.        ,  0.        ,  0.        ,  0.        ,\n",
       "         0.        ,  0.        , -0.50312308, -0.13864385, -0.20251922,\n",
       "        -0.38517452,  0.        ,  0.        ,  0.        ,  0.        ,\n",
       "         0.        ,  0.        ],\n",
       "       [ 0.        ,  0.        ,  0.        ,  0.        ,  0.        ,\n",
       "         0.        ,  0.        ,  0.        , -0.52187637, -0.20251922,\n",
       "        -0.38517452,  0.        ,  0.        ,  0.        ,  0.        ,\n",
       "         0.        ,  0.        ],\n",
       "       [ 0.        ,  0.        ,  0.        ,  0.        ,  0.        ,\n",
       "         0.        ,  0.        ,  0.        ,  0.        , -0.5597937 ,\n",
       "        -0.38517452,  0.        ,  0.        ,  0.        ,  0.        ,\n",
       "         0.        ,  0.        ],\n",
       "       [ 0.        ,  0.        ,  0.        ,  0.        ,  0.        ,\n",
       "         0.        ,  0.        ,  0.        ,  0.        ,  0.        ,\n",
       "        -0.67950599,  0.        ,  0.        ,  0.        ,  0.        ,\n",
       "         0.        ,  0.        ]])"
      ]
     },
     "execution_count": 7,
     "metadata": {},
     "output_type": "execute_result"
    }
   ],
   "source": [
    "ConjugateGS(E, L)"
   ]
  },
  {
   "cell_type": "code",
   "execution_count": 8,
   "metadata": {},
   "outputs": [
    {
     "name": "stdout",
     "output_type": "stream",
     "text": [
      "6.6264620293e-16\n",
      "(10, 10)\n"
     ]
    }
   ],
   "source": [
    "#H = nx.complete_bipartite_graph(10,50)\n",
    "H = nx.complete_graph(10)\n",
    "L = Laplacian(H)\n",
    "E = IncidenceMatrix(H)\n",
    "#print(L)\n",
    "L_p = np.linalg.pinv(L)\n",
    "L_p1 = ConjugatePinv(L, L)\n",
    "print(norm(L_p - L_p1))\n",
    "print(L.shape)"
   ]
  },
  {
   "cell_type": "code",
   "execution_count": 9,
   "metadata": {},
   "outputs": [
    {
     "name": "stdout",
     "output_type": "stream",
     "text": [
      "1.19586044926e-08\n"
     ]
    }
   ],
   "source": [
    "A = np.random.uniform(size=(10,10), high=10, low = 0)\n",
    "X = A.T.dot(A)\n",
    "print(norm(np.linalg.pinv(X) - ConjugatePinv(X, X)))"
   ]
  },
  {
   "cell_type": "code",
   "execution_count": 10,
   "metadata": {},
   "outputs": [
    {
     "name": "stdout",
     "output_type": "stream",
     "text": [
      "1.0\n",
      "0.0\n",
      "0.0\n",
      "0.0\n",
      "0.0\n",
      "0.0\n",
      "0.0\n",
      "0.0\n",
      "0.0\n",
      "0.0\n",
      "0.0\n",
      "0.0\n",
      "0.0\n",
      "0.0\n",
      "0.0\n",
      "0.0\n",
      "0.0\n",
      "0.0\n",
      "0.0\n",
      "0.0\n",
      "0.0\n",
      "0.0\n",
      "0.0\n",
      "0.0\n",
      "0.0\n",
      "0.0\n",
      "0.0\n",
      "0.0\n",
      "0.0\n",
      "0.0\n",
      "0.0\n",
      "0.0\n",
      "0.0\n",
      "0.0\n",
      "0.0\n",
      "0.0\n",
      "0.0\n",
      "0.0\n",
      "0.0\n",
      "0.0\n",
      "0.0\n",
      "0.0\n",
      "0.0\n",
      "0.0\n",
      "0.0\n"
     ]
    }
   ],
   "source": [
    "P = ConjugateGS(E, L)\n",
    "r, c = P.shape\n",
    "for i in range(c):\n",
    "    print(P[:,0].T.dot(L.dot(P[:,i])))"
   ]
  },
  {
   "cell_type": "code",
   "execution_count": 11,
   "metadata": {},
   "outputs": [
    {
     "name": "stdout",
     "output_type": "stream",
     "text": [
      "9\n",
      "(10, 10)\n",
      "(10, 45)\n",
      "(10, 45)\n"
     ]
    }
   ],
   "source": [
    "print(np.linalg.matrix_rank(L))\n",
    "print(L.shape)\n",
    "print(E.shape)\n",
    "print(P.shape)"
   ]
  },
  {
   "cell_type": "code",
   "execution_count": 12,
   "metadata": {},
   "outputs": [
    {
     "data": {
      "text/plain": [
       "False"
      ]
     },
     "execution_count": 12,
     "metadata": {},
     "output_type": "execute_result"
    }
   ],
   "source": [
    "isPSD(L)"
   ]
  },
  {
   "cell_type": "code",
   "execution_count": 13,
   "metadata": {},
   "outputs": [
    {
     "data": {
      "text/plain": [
       "array([ 10. +0.00000000e+00j,   0. +0.00000000e+00j,  10. +2.63657706e-23j,\n",
       "        10. -2.63657706e-23j,  10. +0.00000000e+00j,  10. +0.00000000e+00j,\n",
       "        10. +0.00000000e+00j,  10. +0.00000000e+00j,  10. +0.00000000e+00j,\n",
       "        10. +0.00000000e+00j])"
      ]
     },
     "execution_count": 13,
     "metadata": {},
     "output_type": "execute_result"
    }
   ],
   "source": [
    "np.linalg.eigvals(L)"
   ]
  },
  {
   "cell_type": "code",
   "execution_count": 14,
   "metadata": {},
   "outputs": [
    {
     "data": {
      "text/plain": [
       "array([  3.18407547e+03,   2.60280582e+02,   1.66659023e+02,\n",
       "         8.32196707e+01,   5.42802014e+01,   4.46628488e+01,\n",
       "         2.26423794e+01,   1.17705496e+01,   1.08392567e+00,\n",
       "         4.45122451e-03])"
      ]
     },
     "execution_count": 14,
     "metadata": {},
     "output_type": "execute_result"
    }
   ],
   "source": [
    "np.linalg.eigvals(X)"
   ]
  },
  {
   "cell_type": "code",
   "execution_count": null,
   "metadata": {
    "collapsed": true
   },
   "outputs": [],
   "source": []
  }
 ],
 "metadata": {
  "kernelspec": {
   "display_name": "Python 3",
   "language": "python",
   "name": "python3"
  },
  "language_info": {
   "codemirror_mode": {
    "name": "ipython",
    "version": 3
   },
   "file_extension": ".py",
   "mimetype": "text/x-python",
   "name": "python",
   "nbconvert_exporter": "python",
   "pygments_lexer": "ipython3",
   "version": "3.6.1"
  }
 },
 "nbformat": 4,
 "nbformat_minor": 2
}
