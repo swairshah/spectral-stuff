{
 "cells": [
  {
   "cell_type": "code",
   "execution_count": 1,
   "metadata": {
    "collapsed": true
   },
   "outputs": [],
   "source": [
    "%load_ext autoreload\n",
    "%autoreload 2\n",
    "from laplacian import *\n",
    "from conjugate_gs import *"
   ]
  },
  {
   "cell_type": "code",
   "execution_count": 2,
   "metadata": {},
   "outputs": [
    {
     "data": {
      "image/png": "[encoded data removed]",
      "text/plain": [
       "<matplotlib.figure.Figure at 0x7fcd395e9ba8>"
      ]
     },
     "metadata": {},
     "output_type": "display_data"
    }
   ],
   "source": [
    "G = GenDumbbellGraph(3,2)\n",
    "Draw(G)"
   ]
  },
  {
   "cell_type": "code",
   "execution_count": 3,
   "metadata": {},
   "outputs": [
    {
     "name": "stdout",
     "output_type": "stream",
     "text": [
      "[[ 1.  1.  0.  0.  0.]\n",
      " [-1.  0.  1.  0.  0.]\n",
      " [ 0. -1. -1.  1.  0.]\n",
      " [ 0.  0.  0. -1.  1.]\n",
      " [ 0.  0.  0.  0. -1.]]\n"
     ]
    }
   ],
   "source": [
    "L = Laplacian(G)\n",
    "E = IncidenceMatrix(G)\n",
    "L_plus = np.linalg.pinv(L)\n",
    "print(E)"
   ]
  },
  {
   "cell_type": "code",
   "execution_count": 4,
   "metadata": {
    "scrolled": false
   },
   "outputs": [
    {
     "name": "stdout",
     "output_type": "stream",
     "text": [
      "[[ 1.  0.  0.  0.]\n",
      " [ 0.  1.  0.  0.]\n",
      " [-1. -1.  1.  0.]\n",
      " [ 0.  0. -1.  1.]\n",
      " [ 0.  0.  0. -1.]]\n"
     ]
    }
   ],
   "source": [
    "Es = E[:,[1,2,3,4]]\n",
    "print(Es)"
   ]
  },
  {
   "cell_type": "code",
   "execution_count": 5,
   "metadata": {},
   "outputs": [
    {
     "name": "stdout",
     "output_type": "stream",
     "text": [
      "1.02756570418\n",
      "1.02555138572\n"
     ]
    }
   ],
   "source": [
    "print(norm(conjugate_pinv(E,L)))\n",
    "print(norm(conjugate_pinv(Es,L)))"
   ]
  }
 ],
 "metadata": {
  "kernelspec": {
   "display_name": "Python 3",
   "language": "python",
   "name": "python3"
  },
  "language_info": {
   "codemirror_mode": {
    "name": "ipython",
    "version": 3
   },
   "file_extension": ".py",
   "mimetype": "text/x-python",
   "name": "python",
   "nbconvert_exporter": "python",
   "pygments_lexer": "ipython3",
   "version": "3.6.1"
  }
 },
 "nbformat": 4,
 "nbformat_minor": 2
}
