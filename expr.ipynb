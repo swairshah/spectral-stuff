{
 "cells": [
  {
   "cell_type": "code",
   "execution_count": 5,
   "metadata": {},
   "outputs": [
    {
     "data": {
      "text/plain": [
       "<matplotlib.figure.Figure at 0x7f3296556fd0>"
      ]
     },
     "metadata": {},
     "output_type": "display_data"
    }
   ],
   "source": [
    "from gram_schmidt import *\n",
    "from matrix_stuff import *\n",
    "from conjugate_gs import *\n",
    "from laplacian import *\n",
    "%matplotlib inline\n",
    "\n",
    "tol = 1e-6\n",
    "plt.figure(figsize=(5,5))\n",
    "G = GenDumbbellGraph(100,50)\n",
    "pos = nx.fruchterman_reingold_layout(G)\n",
    "L = Laplacian(G)\n",
    "E = IncidenceMatrix(G)\n",
    "#Draw(G)"
   ]
  },
  {
   "cell_type": "code",
   "execution_count": 6,
   "metadata": {},
   "outputs": [
    {
     "name": "stdout",
     "output_type": "stream",
     "text": [
      "(0, 99) 201.0\n",
      "99\n"
     ]
    }
   ],
   "source": [
    "e, score = MaxEdgeScore(E, L)\n",
    "n = MaxDegreeNode(G)\n",
    "print(e, score)\n",
    "print(n)"
   ]
  },
  {
   "cell_type": "code",
   "execution_count": null,
   "metadata": {
    "collapsed": true
   },
   "outputs": [],
   "source": []
  }
 ],
 "metadata": {
  "kernelspec": {
   "display_name": "Python 3",
   "language": "python",
   "name": "python3"
  },
  "language_info": {
   "codemirror_mode": {
    "name": "ipython",
    "version": 3
   },
   "file_extension": ".py",
   "mimetype": "text/x-python",
   "name": "python",
   "nbconvert_exporter": "python",
   "pygments_lexer": "ipython3",
   "version": "3.6.2"
  }
 },
 "nbformat": 4,
 "nbformat_minor": 2
}
